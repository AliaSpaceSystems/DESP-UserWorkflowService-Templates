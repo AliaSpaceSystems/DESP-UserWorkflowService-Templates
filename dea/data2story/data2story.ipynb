{
 "cells": [
  {
   "cell_type": "markdown",
   "id": "573d2922-8641-4857-a737-6f3f3c3c2e2c",
   "metadata": {},
   "source": [
    "# DEA Notebook \n",
    "\n",
    "![alt text](../dea-gallery-crop.png \"DEA\")\n",
    "\n",
    "### DEA is a Content creation service and no-code platform for DestinE storytelling and data visualization"
   ]
  },
  {
   "cell_type": "markdown",
   "id": "fd45b752-93ff-4dcb-b56a-040be58f0782",
   "metadata": {},
   "source": [
    "## From data to story\n",
    "\n",
    "This notebook can be used to create a simple story on DEA with a slide containing a COG file generated from data provided by the DestinE CacheB service (ERA5 2 metre temperature)"
   ]
  },
  {
   "cell_type": "markdown",
   "id": "1d932e53-639a-4b06-90de-2a967aae2914",
   "metadata": {},
   "source": [
    "# Install pre-requirements"
   ]
  },
  {
   "cell_type": "code",
   "execution_count": 1,
   "id": "2ca79555-c950-4e1c-8be8-1f2fb89b68c3",
   "metadata": {},
   "outputs": [
    {
     "name": "stdout",
     "output_type": "stream",
     "text": [
      "Requirement already satisfied: matplotlib in /opt/conda/lib/python3.11/site-packages (3.8.4)\n",
      "Requirement already satisfied: contourpy>=1.0.1 in /opt/conda/lib/python3.11/site-packages (from matplotlib) (1.2.1)\n",
      "Requirement already satisfied: cycler>=0.10 in /opt/conda/lib/python3.11/site-packages (from matplotlib) (0.12.1)\n",
      "Requirement already satisfied: fonttools>=4.22.0 in /opt/conda/lib/python3.11/site-packages (from matplotlib) (4.51.0)\n",
      "Requirement already satisfied: kiwisolver>=1.3.1 in /opt/conda/lib/python3.11/site-packages (from matplotlib) (1.4.5)\n",
      "Requirement already satisfied: numpy>=1.21 in /opt/conda/lib/python3.11/site-packages (from matplotlib) (1.26.4)\n",
      "Requirement already satisfied: packaging>=20.0 in /opt/conda/lib/python3.11/site-packages (from matplotlib) (24.0)\n",
      "Requirement already satisfied: pillow>=8 in /opt/conda/lib/python3.11/site-packages (from matplotlib) (10.3.0)\n",
      "Requirement already satisfied: pyparsing>=2.3.1 in /opt/conda/lib/python3.11/site-packages (from matplotlib) (3.1.2)\n",
      "Requirement already satisfied: python-dateutil>=2.7 in /opt/conda/lib/python3.11/site-packages (from matplotlib) (2.9.0.post0)\n",
      "Requirement already satisfied: six>=1.5 in /opt/conda/lib/python3.11/site-packages (from python-dateutil>=2.7->matplotlib) (1.16.0)\n",
      "Requirement already satisfied: numpy in /opt/conda/lib/python3.11/site-packages (1.26.4)\n",
      "Requirement already satisfied: xarray in /opt/conda/lib/python3.11/site-packages (2024.3.0)\n",
      "Requirement already satisfied: numpy>=1.23 in /opt/conda/lib/python3.11/site-packages (from xarray) (1.26.4)\n",
      "Requirement already satisfied: packaging>=22 in /opt/conda/lib/python3.11/site-packages (from xarray) (24.0)\n",
      "Requirement already satisfied: pandas>=1.5 in /opt/conda/lib/python3.11/site-packages (from xarray) (2.2.2)\n",
      "Requirement already satisfied: python-dateutil>=2.8.2 in /opt/conda/lib/python3.11/site-packages (from pandas>=1.5->xarray) (2.9.0.post0)\n",
      "Requirement already satisfied: pytz>=2020.1 in /opt/conda/lib/python3.11/site-packages (from pandas>=1.5->xarray) (2024.1)\n",
      "Requirement already satisfied: tzdata>=2022.7 in /opt/conda/lib/python3.11/site-packages (from pandas>=1.5->xarray) (2024.1)\n",
      "Requirement already satisfied: six>=1.5 in /opt/conda/lib/python3.11/site-packages (from python-dateutil>=2.8.2->pandas>=1.5->xarray) (1.16.0)\n",
      "Requirement already satisfied: rasterio in /opt/conda/lib/python3.11/site-packages (1.3.10)\n",
      "Requirement already satisfied: affine in /opt/conda/lib/python3.11/site-packages (from rasterio) (2.4.0)\n",
      "Requirement already satisfied: attrs in /opt/conda/lib/python3.11/site-packages (from rasterio) (23.2.0)\n",
      "Requirement already satisfied: certifi in /opt/conda/lib/python3.11/site-packages (from rasterio) (2024.2.2)\n",
      "Requirement already satisfied: click>=4.0 in /opt/conda/lib/python3.11/site-packages (from rasterio) (8.1.7)\n",
      "Requirement already satisfied: cligj>=0.5 in /opt/conda/lib/python3.11/site-packages (from rasterio) (0.7.2)\n",
      "Requirement already satisfied: numpy in /opt/conda/lib/python3.11/site-packages (from rasterio) (1.26.4)\n",
      "Requirement already satisfied: snuggs>=1.4.1 in /opt/conda/lib/python3.11/site-packages (from rasterio) (1.4.7)\n",
      "Requirement already satisfied: click-plugins in /opt/conda/lib/python3.11/site-packages (from rasterio) (1.1.1)\n",
      "Requirement already satisfied: setuptools in /home/jovyan/.local/lib/python3.11/site-packages (from rasterio) (75.1.0)\n",
      "Requirement already satisfied: pyparsing>=2.1.6 in /opt/conda/lib/python3.11/site-packages (from snuggs>=1.4.1->rasterio) (3.1.2)\n",
      "Requirement already satisfied: requests in /opt/conda/lib/python3.11/site-packages (2.31.0)\n",
      "Requirement already satisfied: charset-normalizer<4,>=2 in /opt/conda/lib/python3.11/site-packages (from requests) (3.3.2)\n",
      "Requirement already satisfied: idna<4,>=2.5 in /opt/conda/lib/python3.11/site-packages (from requests) (3.7)\n",
      "Requirement already satisfied: urllib3<3,>=1.21.1 in /opt/conda/lib/python3.11/site-packages (from requests) (2.2.1)\n",
      "Requirement already satisfied: certifi>=2017.4.17 in /opt/conda/lib/python3.11/site-packages (from requests) (2024.2.2)\n",
      "Collecting rio-cogeo\n",
      "  Using cached rio_cogeo-5.3.6-py3-none-any.whl.metadata (4.6 kB)\n",
      "Requirement already satisfied: click>=7.0 in /opt/conda/lib/python3.11/site-packages (from rio-cogeo) (8.1.7)\n",
      "Requirement already satisfied: rasterio>=1.3.3 in /opt/conda/lib/python3.11/site-packages (from rio-cogeo) (1.3.10)\n",
      "Collecting morecantile<6.0,>=5.0 (from rio-cogeo)\n",
      "  Using cached morecantile-5.4.2-py3-none-any.whl.metadata (7.0 kB)\n",
      "Requirement already satisfied: pydantic~=2.0 in /opt/conda/lib/python3.11/site-packages (from rio-cogeo) (2.7.1)\n",
      "Requirement already satisfied: attrs in /opt/conda/lib/python3.11/site-packages (from morecantile<6.0,>=5.0->rio-cogeo) (23.2.0)\n",
      "Requirement already satisfied: pyproj~=3.1 in /opt/conda/lib/python3.11/site-packages (from morecantile<6.0,>=5.0->rio-cogeo) (3.6.1)\n",
      "Requirement already satisfied: annotated-types>=0.4.0 in /opt/conda/lib/python3.11/site-packages (from pydantic~=2.0->rio-cogeo) (0.6.0)\n",
      "Requirement already satisfied: pydantic-core==2.18.2 in /opt/conda/lib/python3.11/site-packages (from pydantic~=2.0->rio-cogeo) (2.18.2)\n",
      "Requirement already satisfied: typing-extensions>=4.6.1 in /opt/conda/lib/python3.11/site-packages (from pydantic~=2.0->rio-cogeo) (4.11.0)\n",
      "Requirement already satisfied: affine in /opt/conda/lib/python3.11/site-packages (from rasterio>=1.3.3->rio-cogeo) (2.4.0)\n",
      "Requirement already satisfied: certifi in /opt/conda/lib/python3.11/site-packages (from rasterio>=1.3.3->rio-cogeo) (2024.2.2)\n",
      "Requirement already satisfied: cligj>=0.5 in /opt/conda/lib/python3.11/site-packages (from rasterio>=1.3.3->rio-cogeo) (0.7.2)\n",
      "Requirement already satisfied: numpy in /opt/conda/lib/python3.11/site-packages (from rasterio>=1.3.3->rio-cogeo) (1.26.4)\n",
      "Requirement already satisfied: snuggs>=1.4.1 in /opt/conda/lib/python3.11/site-packages (from rasterio>=1.3.3->rio-cogeo) (1.4.7)\n",
      "Requirement already satisfied: click-plugins in /opt/conda/lib/python3.11/site-packages (from rasterio>=1.3.3->rio-cogeo) (1.1.1)\n",
      "Requirement already satisfied: setuptools in /home/jovyan/.local/lib/python3.11/site-packages (from rasterio>=1.3.3->rio-cogeo) (75.1.0)\n",
      "Requirement already satisfied: pyparsing>=2.1.6 in /opt/conda/lib/python3.11/site-packages (from snuggs>=1.4.1->rasterio>=1.3.3->rio-cogeo) (3.1.2)\n",
      "Using cached rio_cogeo-5.3.6-py3-none-any.whl (20 kB)\n",
      "Using cached morecantile-5.4.2-py3-none-any.whl (49 kB)\n",
      "Installing collected packages: morecantile, rio-cogeo\n",
      "Successfully installed morecantile-5.4.2 rio-cogeo-5.3.6\n",
      "Requirement already satisfied: rioxarray in /opt/conda/lib/python3.11/site-packages (0.15.5)\n",
      "Requirement already satisfied: packaging in /opt/conda/lib/python3.11/site-packages (from rioxarray) (24.0)\n",
      "Requirement already satisfied: rasterio>=1.3 in /opt/conda/lib/python3.11/site-packages (from rioxarray) (1.3.10)\n",
      "Requirement already satisfied: xarray>=2022.3.0 in /opt/conda/lib/python3.11/site-packages (from rioxarray) (2024.3.0)\n",
      "Requirement already satisfied: pyproj>=3.3 in /opt/conda/lib/python3.11/site-packages (from rioxarray) (3.6.1)\n",
      "Requirement already satisfied: numpy>=1.23 in /opt/conda/lib/python3.11/site-packages (from rioxarray) (1.26.4)\n",
      "Requirement already satisfied: certifi in /opt/conda/lib/python3.11/site-packages (from pyproj>=3.3->rioxarray) (2024.2.2)\n",
      "Requirement already satisfied: affine in /opt/conda/lib/python3.11/site-packages (from rasterio>=1.3->rioxarray) (2.4.0)\n",
      "Requirement already satisfied: attrs in /opt/conda/lib/python3.11/site-packages (from rasterio>=1.3->rioxarray) (23.2.0)\n",
      "Requirement already satisfied: click>=4.0 in /opt/conda/lib/python3.11/site-packages (from rasterio>=1.3->rioxarray) (8.1.7)\n",
      "Requirement already satisfied: cligj>=0.5 in /opt/conda/lib/python3.11/site-packages (from rasterio>=1.3->rioxarray) (0.7.2)\n",
      "Requirement already satisfied: snuggs>=1.4.1 in /opt/conda/lib/python3.11/site-packages (from rasterio>=1.3->rioxarray) (1.4.7)\n",
      "Requirement already satisfied: click-plugins in /opt/conda/lib/python3.11/site-packages (from rasterio>=1.3->rioxarray) (1.1.1)\n",
      "Requirement already satisfied: setuptools in /home/jovyan/.local/lib/python3.11/site-packages (from rasterio>=1.3->rioxarray) (75.1.0)\n",
      "Requirement already satisfied: pandas>=1.5 in /opt/conda/lib/python3.11/site-packages (from xarray>=2022.3.0->rioxarray) (2.2.2)\n",
      "Requirement already satisfied: python-dateutil>=2.8.2 in /opt/conda/lib/python3.11/site-packages (from pandas>=1.5->xarray>=2022.3.0->rioxarray) (2.9.0.post0)\n",
      "Requirement already satisfied: pytz>=2020.1 in /opt/conda/lib/python3.11/site-packages (from pandas>=1.5->xarray>=2022.3.0->rioxarray) (2024.1)\n",
      "Requirement already satisfied: tzdata>=2022.7 in /opt/conda/lib/python3.11/site-packages (from pandas>=1.5->xarray>=2022.3.0->rioxarray) (2024.1)\n",
      "Requirement already satisfied: pyparsing>=2.1.6 in /opt/conda/lib/python3.11/site-packages (from snuggs>=1.4.1->rasterio>=1.3->rioxarray) (3.1.2)\n",
      "Requirement already satisfied: six>=1.5 in /opt/conda/lib/python3.11/site-packages (from python-dateutil>=2.8.2->pandas>=1.5->xarray>=2022.3.0->rioxarray) (1.16.0)\n"
     ]
    }
   ],
   "source": [
    "!pip install matplotlib\n",
    "!pip install numpy\n",
    "!pip install xarray\n",
    "!pip install rasterio\n",
    "!pip install requests\n",
    "!pip install rio-cogeo\n",
    "!pip install rioxarray"
   ]
  },
  {
   "cell_type": "markdown",
   "id": "f046fc67-8d02-4a10-b1e4-8016ef82436f",
   "metadata": {},
   "source": [
    "# Download the sample NetCDF file and save it in the input folder\n",
    "\n",
    "DESP CacheB will be used to download an ERA5 t2m data selecting 2024-08-01 as date.\n",
    "\n",
    "The data will be saved locally in NetCDF format.\n",
    "\n",
    "**NOTE**: the temporary password is valid for a limited period of time and needs to be regenerated and reconfigured periodically by running the cells above.\n",
    "\n",
    "The following file will be downlaoded locally: **t2m_era5_20240801.nc**"
   ]
  },
  {
   "cell_type": "code",
   "execution_count": 2,
   "id": "6baa75f7-3c88-4b8d-b8b9-538ff6be3f41",
   "metadata": {
    "scrolled": true
   },
   "outputs": [
    {
     "name": "stdin",
     "output_type": "stream",
     "text": [
      "Username:  dea@alia-space.com\n",
      "Password:  ········\n"
     ]
    }
   ],
   "source": [
    "%%capture cap\n",
    "%run ./../../cacheb/cacheb-authentication.py"
   ]
  },
  {
   "cell_type": "code",
   "execution_count": 3,
   "id": "d25659d6-7ba6-4815-b650-81843564e5c3",
   "metadata": {},
   "outputs": [],
   "source": [
    "output_1 = cap.stdout.split('}\\n')\n",
    "token = output_1[-1][0:-1]\n",
    "\n",
    "from pathlib import Path\n",
    "with open(Path.home() / \".netrc\", \"a\") as fp:\n",
    "    fp.write(token)"
   ]
  },
  {
   "cell_type": "markdown",
   "id": "beef8667-e168-4fb5-a906-b1d4218d49f1",
   "metadata": {},
   "source": [
    "## You can use your own data!\n",
    "\n",
    "**NOTE:** You can use your own NetCDF file, but please consider that the NetCDF file must have latitude and longitude coordinates defined in the range -180,180,-90,90. \n",
    "\n",
    "In case the original file has a different definition, applying, for instance, the following CDO command:\n",
    " \n",
    " ```\n",
    "cdo sellonlatbox,-180,180,-90,90 <input_file.nc> <output_file.nc>\n",
    "```\n",
    "\n",
    "More info on CDO (Climate Data Operators) are available [here](https://code.mpimet.mpg.de/projects/cdo)"
   ]
  },
  {
   "cell_type": "code",
   "execution_count": 4,
   "id": "20acb5ab-11d0-44c6-b7b8-a24cc72c8378",
   "metadata": {},
   "outputs": [
    {
     "name": "stdout",
     "output_type": "stream",
     "text": [
      "Data to download...\n",
      "<xarray.DataArray 't2m' (latitude: 721, longitude: 1440)> Size: 4MB\n",
      "dask.array<getitem, shape=(721, 1440), dtype=float32, chunksize=(64, 64), chunktype=numpy.ndarray>\n",
      "Coordinates:\n",
      "    entireAtmosphere  float32 4B 0.0\n",
      "  * latitude          (latitude) float64 6kB 90.0 89.75 89.5 ... -89.75 -90.0\n",
      "    number            int64 8B 0\n",
      "    surface           float64 8B 0.0\n",
      "    valid_time        datetime64[ns] 8B 2024-08-01T12:00:00\n",
      "  * longitude         (longitude) float64 12kB -179.8 -179.5 ... 179.8 180.0\n",
      "Attributes:\n",
      "    units:    C\n",
      "Your file t2m_era5_20240801.nc is ready!\n"
     ]
    }
   ],
   "source": [
    "%run ./get_era5_t2m_from_cacheb.py"
   ]
  },
  {
   "cell_type": "markdown",
   "id": "b265efab-a3d2-4a8d-a10d-b196ed300e86",
   "metadata": {},
   "source": [
    "## Wait until your NetCDF file appear in your workspace before executing the next cell. It could take a while."
   ]
  },
  {
   "cell_type": "markdown",
   "id": "582cdcb0-a546-468a-837d-22473b4fb196",
   "metadata": {},
   "source": [
    "# Convert NetCDF to GeoTiff\n",
    "\n",
    "The following file will be downlaoded locally: **t2m_era5_20240801.tiff**"
   ]
  },
  {
   "cell_type": "markdown",
   "id": "3be532a4-9b15-4898-9ec0-4c1e44930b0e",
   "metadata": {},
   "source": [
    "## 1. Define variables"
   ]
  },
  {
   "cell_type": "code",
   "execution_count": 5,
   "id": "e1a95afa-270b-4899-a2c9-be1de841eb02",
   "metadata": {},
   "outputs": [],
   "source": [
    "file_path = \"t2m_era5_20240801.nc\"\n",
    "tif_path = \"t2m_era5_20240801.tiff\""
   ]
  },
  {
   "cell_type": "markdown",
   "id": "635b2857-4b94-44ac-8697-3ec8074a68b6",
   "metadata": {},
   "source": [
    "## 2. Import dependencies "
   ]
  },
  {
   "cell_type": "code",
   "execution_count": 6,
   "id": "cd641ba3-b091-4449-a68f-db494cb1414e",
   "metadata": {},
   "outputs": [],
   "source": [
    "import xarray as xr\n",
    "import rioxarray"
   ]
  },
  {
   "cell_type": "markdown",
   "id": "3aad6bee-a4cb-4157-b5e4-f347a33a942b",
   "metadata": {},
   "source": [
    "## 3. Open dataset and select variable (e.g. var='t2m')"
   ]
  },
  {
   "cell_type": "code",
   "execution_count": 7,
   "id": "e28f6559-fb7a-413e-a8c0-482225bd21d7",
   "metadata": {},
   "outputs": [],
   "source": [
    "var = 't2m'\n",
    "data = xr.open_dataset(file_path)\n",
    "data = data[var]"
   ]
  },
  {
   "cell_type": "markdown",
   "id": "00f17cfa-0644-4bbb-96a4-4d21e351800a",
   "metadata": {},
   "source": [
    "## 4. Apply CRS (assuming the coordinates are longitude and latitude)"
   ]
  },
  {
   "cell_type": "code",
   "execution_count": 8,
   "id": "d0594cdb-f63d-4a9b-aacd-b304e3384f5d",
   "metadata": {},
   "outputs": [
    {
     "data": {
      "text/html": [
       "<div><svg style=\"position: absolute; width: 0; height: 0; overflow: hidden\">\n",
       "<defs>\n",
       "<symbol id=\"icon-database\" viewBox=\"0 0 32 32\">\n",
       "<path d=\"M16 0c-8.837 0-16 2.239-16 5v4c0 2.761 7.163 5 16 5s16-2.239 16-5v-4c0-2.761-7.163-5-16-5z\"></path>\n",
       "<path d=\"M16 17c-8.837 0-16-2.239-16-5v6c0 2.761 7.163 5 16 5s16-2.239 16-5v-6c0 2.761-7.163 5-16 5z\"></path>\n",
       "<path d=\"M16 26c-8.837 0-16-2.239-16-5v6c0 2.761 7.163 5 16 5s16-2.239 16-5v-6c0 2.761-7.163 5-16 5z\"></path>\n",
       "</symbol>\n",
       "<symbol id=\"icon-file-text2\" viewBox=\"0 0 32 32\">\n",
       "<path d=\"M28.681 7.159c-0.694-0.947-1.662-2.053-2.724-3.116s-2.169-2.030-3.116-2.724c-1.612-1.182-2.393-1.319-2.841-1.319h-15.5c-1.378 0-2.5 1.121-2.5 2.5v27c0 1.378 1.122 2.5 2.5 2.5h23c1.378 0 2.5-1.122 2.5-2.5v-19.5c0-0.448-0.137-1.23-1.319-2.841zM24.543 5.457c0.959 0.959 1.712 1.825 2.268 2.543h-4.811v-4.811c0.718 0.556 1.584 1.309 2.543 2.268zM28 29.5c0 0.271-0.229 0.5-0.5 0.5h-23c-0.271 0-0.5-0.229-0.5-0.5v-27c0-0.271 0.229-0.5 0.5-0.5 0 0 15.499-0 15.5 0v7c0 0.552 0.448 1 1 1h7v19.5z\"></path>\n",
       "<path d=\"M23 26h-14c-0.552 0-1-0.448-1-1s0.448-1 1-1h14c0.552 0 1 0.448 1 1s-0.448 1-1 1z\"></path>\n",
       "<path d=\"M23 22h-14c-0.552 0-1-0.448-1-1s0.448-1 1-1h14c0.552 0 1 0.448 1 1s-0.448 1-1 1z\"></path>\n",
       "<path d=\"M23 18h-14c-0.552 0-1-0.448-1-1s0.448-1 1-1h14c0.552 0 1 0.448 1 1s-0.448 1-1 1z\"></path>\n",
       "</symbol>\n",
       "</defs>\n",
       "</svg>\n",
       "<style>/* CSS stylesheet for displaying xarray objects in jupyterlab.\n",
       " *\n",
       " */\n",
       "\n",
       ":root {\n",
       "  --xr-font-color0: var(--jp-content-font-color0, rgba(0, 0, 0, 1));\n",
       "  --xr-font-color2: var(--jp-content-font-color2, rgba(0, 0, 0, 0.54));\n",
       "  --xr-font-color3: var(--jp-content-font-color3, rgba(0, 0, 0, 0.38));\n",
       "  --xr-border-color: var(--jp-border-color2, #e0e0e0);\n",
       "  --xr-disabled-color: var(--jp-layout-color3, #bdbdbd);\n",
       "  --xr-background-color: var(--jp-layout-color0, white);\n",
       "  --xr-background-color-row-even: var(--jp-layout-color1, white);\n",
       "  --xr-background-color-row-odd: var(--jp-layout-color2, #eeeeee);\n",
       "}\n",
       "\n",
       "html[theme=dark],\n",
       "body[data-theme=dark],\n",
       "body.vscode-dark {\n",
       "  --xr-font-color0: rgba(255, 255, 255, 1);\n",
       "  --xr-font-color2: rgba(255, 255, 255, 0.54);\n",
       "  --xr-font-color3: rgba(255, 255, 255, 0.38);\n",
       "  --xr-border-color: #1F1F1F;\n",
       "  --xr-disabled-color: #515151;\n",
       "  --xr-background-color: #111111;\n",
       "  --xr-background-color-row-even: #111111;\n",
       "  --xr-background-color-row-odd: #313131;\n",
       "}\n",
       "\n",
       ".xr-wrap {\n",
       "  display: block !important;\n",
       "  min-width: 300px;\n",
       "  max-width: 700px;\n",
       "}\n",
       "\n",
       ".xr-text-repr-fallback {\n",
       "  /* fallback to plain text repr when CSS is not injected (untrusted notebook) */\n",
       "  display: none;\n",
       "}\n",
       "\n",
       ".xr-header {\n",
       "  padding-top: 6px;\n",
       "  padding-bottom: 6px;\n",
       "  margin-bottom: 4px;\n",
       "  border-bottom: solid 1px var(--xr-border-color);\n",
       "}\n",
       "\n",
       ".xr-header > div,\n",
       ".xr-header > ul {\n",
       "  display: inline;\n",
       "  margin-top: 0;\n",
       "  margin-bottom: 0;\n",
       "}\n",
       "\n",
       ".xr-obj-type,\n",
       ".xr-array-name {\n",
       "  margin-left: 2px;\n",
       "  margin-right: 10px;\n",
       "}\n",
       "\n",
       ".xr-obj-type {\n",
       "  color: var(--xr-font-color2);\n",
       "}\n",
       "\n",
       ".xr-sections {\n",
       "  padding-left: 0 !important;\n",
       "  display: grid;\n",
       "  grid-template-columns: 150px auto auto 1fr 20px 20px;\n",
       "}\n",
       "\n",
       ".xr-section-item {\n",
       "  display: contents;\n",
       "}\n",
       "\n",
       ".xr-section-item input {\n",
       "  display: none;\n",
       "}\n",
       "\n",
       ".xr-section-item input + label {\n",
       "  color: var(--xr-disabled-color);\n",
       "}\n",
       "\n",
       ".xr-section-item input:enabled + label {\n",
       "  cursor: pointer;\n",
       "  color: var(--xr-font-color2);\n",
       "}\n",
       "\n",
       ".xr-section-item input:enabled + label:hover {\n",
       "  color: var(--xr-font-color0);\n",
       "}\n",
       "\n",
       ".xr-section-summary {\n",
       "  grid-column: 1;\n",
       "  color: var(--xr-font-color2);\n",
       "  font-weight: 500;\n",
       "}\n",
       "\n",
       ".xr-section-summary > span {\n",
       "  display: inline-block;\n",
       "  padding-left: 0.5em;\n",
       "}\n",
       "\n",
       ".xr-section-summary-in:disabled + label {\n",
       "  color: var(--xr-font-color2);\n",
       "}\n",
       "\n",
       ".xr-section-summary-in + label:before {\n",
       "  display: inline-block;\n",
       "  content: '►';\n",
       "  font-size: 11px;\n",
       "  width: 15px;\n",
       "  text-align: center;\n",
       "}\n",
       "\n",
       ".xr-section-summary-in:disabled + label:before {\n",
       "  color: var(--xr-disabled-color);\n",
       "}\n",
       "\n",
       ".xr-section-summary-in:checked + label:before {\n",
       "  content: '▼';\n",
       "}\n",
       "\n",
       ".xr-section-summary-in:checked + label > span {\n",
       "  display: none;\n",
       "}\n",
       "\n",
       ".xr-section-summary,\n",
       ".xr-section-inline-details {\n",
       "  padding-top: 4px;\n",
       "  padding-bottom: 4px;\n",
       "}\n",
       "\n",
       ".xr-section-inline-details {\n",
       "  grid-column: 2 / -1;\n",
       "}\n",
       "\n",
       ".xr-section-details {\n",
       "  display: none;\n",
       "  grid-column: 1 / -1;\n",
       "  margin-bottom: 5px;\n",
       "}\n",
       "\n",
       ".xr-section-summary-in:checked ~ .xr-section-details {\n",
       "  display: contents;\n",
       "}\n",
       "\n",
       ".xr-array-wrap {\n",
       "  grid-column: 1 / -1;\n",
       "  display: grid;\n",
       "  grid-template-columns: 20px auto;\n",
       "}\n",
       "\n",
       ".xr-array-wrap > label {\n",
       "  grid-column: 1;\n",
       "  vertical-align: top;\n",
       "}\n",
       "\n",
       ".xr-preview {\n",
       "  color: var(--xr-font-color3);\n",
       "}\n",
       "\n",
       ".xr-array-preview,\n",
       ".xr-array-data {\n",
       "  padding: 0 5px !important;\n",
       "  grid-column: 2;\n",
       "}\n",
       "\n",
       ".xr-array-data,\n",
       ".xr-array-in:checked ~ .xr-array-preview {\n",
       "  display: none;\n",
       "}\n",
       "\n",
       ".xr-array-in:checked ~ .xr-array-data,\n",
       ".xr-array-preview {\n",
       "  display: inline-block;\n",
       "}\n",
       "\n",
       ".xr-dim-list {\n",
       "  display: inline-block !important;\n",
       "  list-style: none;\n",
       "  padding: 0 !important;\n",
       "  margin: 0;\n",
       "}\n",
       "\n",
       ".xr-dim-list li {\n",
       "  display: inline-block;\n",
       "  padding: 0;\n",
       "  margin: 0;\n",
       "}\n",
       "\n",
       ".xr-dim-list:before {\n",
       "  content: '(';\n",
       "}\n",
       "\n",
       ".xr-dim-list:after {\n",
       "  content: ')';\n",
       "}\n",
       "\n",
       ".xr-dim-list li:not(:last-child):after {\n",
       "  content: ',';\n",
       "  padding-right: 5px;\n",
       "}\n",
       "\n",
       ".xr-has-index {\n",
       "  font-weight: bold;\n",
       "}\n",
       "\n",
       ".xr-var-list,\n",
       ".xr-var-item {\n",
       "  display: contents;\n",
       "}\n",
       "\n",
       ".xr-var-item > div,\n",
       ".xr-var-item label,\n",
       ".xr-var-item > .xr-var-name span {\n",
       "  background-color: var(--xr-background-color-row-even);\n",
       "  margin-bottom: 0;\n",
       "}\n",
       "\n",
       ".xr-var-item > .xr-var-name:hover span {\n",
       "  padding-right: 5px;\n",
       "}\n",
       "\n",
       ".xr-var-list > li:nth-child(odd) > div,\n",
       ".xr-var-list > li:nth-child(odd) > label,\n",
       ".xr-var-list > li:nth-child(odd) > .xr-var-name span {\n",
       "  background-color: var(--xr-background-color-row-odd);\n",
       "}\n",
       "\n",
       ".xr-var-name {\n",
       "  grid-column: 1;\n",
       "}\n",
       "\n",
       ".xr-var-dims {\n",
       "  grid-column: 2;\n",
       "}\n",
       "\n",
       ".xr-var-dtype {\n",
       "  grid-column: 3;\n",
       "  text-align: right;\n",
       "  color: var(--xr-font-color2);\n",
       "}\n",
       "\n",
       ".xr-var-preview {\n",
       "  grid-column: 4;\n",
       "}\n",
       "\n",
       ".xr-index-preview {\n",
       "  grid-column: 2 / 5;\n",
       "  color: var(--xr-font-color2);\n",
       "}\n",
       "\n",
       ".xr-var-name,\n",
       ".xr-var-dims,\n",
       ".xr-var-dtype,\n",
       ".xr-preview,\n",
       ".xr-attrs dt {\n",
       "  white-space: nowrap;\n",
       "  overflow: hidden;\n",
       "  text-overflow: ellipsis;\n",
       "  padding-right: 10px;\n",
       "}\n",
       "\n",
       ".xr-var-name:hover,\n",
       ".xr-var-dims:hover,\n",
       ".xr-var-dtype:hover,\n",
       ".xr-attrs dt:hover {\n",
       "  overflow: visible;\n",
       "  width: auto;\n",
       "  z-index: 1;\n",
       "}\n",
       "\n",
       ".xr-var-attrs,\n",
       ".xr-var-data,\n",
       ".xr-index-data {\n",
       "  display: none;\n",
       "  background-color: var(--xr-background-color) !important;\n",
       "  padding-bottom: 5px !important;\n",
       "}\n",
       "\n",
       ".xr-var-attrs-in:checked ~ .xr-var-attrs,\n",
       ".xr-var-data-in:checked ~ .xr-var-data,\n",
       ".xr-index-data-in:checked ~ .xr-index-data {\n",
       "  display: block;\n",
       "}\n",
       "\n",
       ".xr-var-data > table {\n",
       "  float: right;\n",
       "}\n",
       "\n",
       ".xr-var-name span,\n",
       ".xr-var-data,\n",
       ".xr-index-name div,\n",
       ".xr-index-data,\n",
       ".xr-attrs {\n",
       "  padding-left: 25px !important;\n",
       "}\n",
       "\n",
       ".xr-attrs,\n",
       ".xr-var-attrs,\n",
       ".xr-var-data,\n",
       ".xr-index-data {\n",
       "  grid-column: 1 / -1;\n",
       "}\n",
       "\n",
       "dl.xr-attrs {\n",
       "  padding: 0;\n",
       "  margin: 0;\n",
       "  display: grid;\n",
       "  grid-template-columns: 125px auto;\n",
       "}\n",
       "\n",
       ".xr-attrs dt,\n",
       ".xr-attrs dd {\n",
       "  padding: 0;\n",
       "  margin: 0;\n",
       "  float: left;\n",
       "  padding-right: 10px;\n",
       "  width: auto;\n",
       "}\n",
       "\n",
       ".xr-attrs dt {\n",
       "  font-weight: normal;\n",
       "  grid-column: 1;\n",
       "}\n",
       "\n",
       ".xr-attrs dt:hover span {\n",
       "  display: inline-block;\n",
       "  background: var(--xr-background-color);\n",
       "  padding-right: 10px;\n",
       "}\n",
       "\n",
       ".xr-attrs dd {\n",
       "  grid-column: 2;\n",
       "  white-space: pre-wrap;\n",
       "  word-break: break-all;\n",
       "}\n",
       "\n",
       ".xr-icon-database,\n",
       ".xr-icon-file-text2,\n",
       ".xr-no-icon {\n",
       "  display: inline-block;\n",
       "  vertical-align: middle;\n",
       "  width: 1em;\n",
       "  height: 1.5em !important;\n",
       "  stroke-width: 0;\n",
       "  stroke: currentColor;\n",
       "  fill: currentColor;\n",
       "}\n",
       "</style><pre class='xr-text-repr-fallback'>&lt;xarray.DataArray &#x27;t2m&#x27; (y: 721, x: 1440)&gt; Size: 4MB\n",
       "[1038240 values with dtype=float32]\n",
       "Coordinates:\n",
       "    entireAtmosphere  float32 4B ...\n",
       "  * y                 (y) float64 6kB 90.0 89.75 89.5 ... -89.5 -89.75 -90.0\n",
       "    number            int64 8B ...\n",
       "    surface           float64 8B ...\n",
       "    valid_time        datetime64[ns] 8B ...\n",
       "  * x                 (x) float64 12kB -179.8 -179.5 -179.2 ... 179.8 180.0\n",
       "    spatial_ref       int64 8B 0\n",
       "Attributes:\n",
       "    units:    C</pre><div class='xr-wrap' style='display:none'><div class='xr-header'><div class='xr-obj-type'>xarray.DataArray</div><div class='xr-array-name'>'t2m'</div><ul class='xr-dim-list'><li><span class='xr-has-index'>y</span>: 721</li><li><span class='xr-has-index'>x</span>: 1440</li></ul></div><ul class='xr-sections'><li class='xr-section-item'><div class='xr-array-wrap'><input id='section-d89bc83c-51ac-41e1-947e-9ec591a09044' class='xr-array-in' type='checkbox' checked><label for='section-d89bc83c-51ac-41e1-947e-9ec591a09044' title='Show/hide data repr'><svg class='icon xr-icon-database'><use xlink:href='#icon-database'></use></svg></label><div class='xr-array-preview xr-preview'><span>...</span></div><div class='xr-array-data'><pre>[1038240 values with dtype=float32]</pre></div></div></li><li class='xr-section-item'><input id='section-de2f7809-7cd2-4826-a345-4099c91a1642' class='xr-section-summary-in' type='checkbox'  checked><label for='section-de2f7809-7cd2-4826-a345-4099c91a1642' class='xr-section-summary' >Coordinates: <span>(7)</span></label><div class='xr-section-inline-details'></div><div class='xr-section-details'><ul class='xr-var-list'><li class='xr-var-item'><div class='xr-var-name'><span>entireAtmosphere</span></div><div class='xr-var-dims'>()</div><div class='xr-var-dtype'>float32</div><div class='xr-var-preview xr-preview'>...</div><input id='attrs-65c6afed-9195-42e1-bfde-e3e93d73868a' class='xr-var-attrs-in' type='checkbox' disabled><label for='attrs-65c6afed-9195-42e1-bfde-e3e93d73868a' title='Show/Hide attributes'><svg class='icon xr-icon-file-text2'><use xlink:href='#icon-file-text2'></use></svg></label><input id='data-13680020-ba38-4860-82aa-599518966409' class='xr-var-data-in' type='checkbox'><label for='data-13680020-ba38-4860-82aa-599518966409' title='Show/Hide data repr'><svg class='icon xr-icon-database'><use xlink:href='#icon-database'></use></svg></label><div class='xr-var-attrs'><dl class='xr-attrs'></dl></div><div class='xr-var-data'><pre>[1 values with dtype=float32]</pre></div></li><li class='xr-var-item'><div class='xr-var-name'><span class='xr-has-index'>y</span></div><div class='xr-var-dims'>(y)</div><div class='xr-var-dtype'>float64</div><div class='xr-var-preview xr-preview'>90.0 89.75 89.5 ... -89.75 -90.0</div><input id='attrs-4f69370d-d510-48d5-b33f-e1edc26199e0' class='xr-var-attrs-in' type='checkbox' ><label for='attrs-4f69370d-d510-48d5-b33f-e1edc26199e0' title='Show/Hide attributes'><svg class='icon xr-icon-file-text2'><use xlink:href='#icon-file-text2'></use></svg></label><input id='data-0d7d8989-d3a5-47e3-a0f1-60242d60bab3' class='xr-var-data-in' type='checkbox'><label for='data-0d7d8989-d3a5-47e3-a0f1-60242d60bab3' title='Show/Hide data repr'><svg class='icon xr-icon-database'><use xlink:href='#icon-database'></use></svg></label><div class='xr-var-attrs'><dl class='xr-attrs'><dt><span>long_name :</span></dt><dd>latitude</dd><dt><span>standard_name :</span></dt><dd>latitude</dd><dt><span>stored_direction :</span></dt><dd>decreasing</dd><dt><span>units :</span></dt><dd>degrees_north</dd></dl></div><div class='xr-var-data'><pre>array([ 90.  ,  89.75,  89.5 , ..., -89.5 , -89.75, -90.  ])</pre></div></li><li class='xr-var-item'><div class='xr-var-name'><span>number</span></div><div class='xr-var-dims'>()</div><div class='xr-var-dtype'>int64</div><div class='xr-var-preview xr-preview'>...</div><input id='attrs-edd4b684-f8b6-4b37-a396-fc27690c05b9' class='xr-var-attrs-in' type='checkbox' disabled><label for='attrs-edd4b684-f8b6-4b37-a396-fc27690c05b9' title='Show/Hide attributes'><svg class='icon xr-icon-file-text2'><use xlink:href='#icon-file-text2'></use></svg></label><input id='data-fc3a44af-de4f-4cb2-b032-2133501ac8bb' class='xr-var-data-in' type='checkbox'><label for='data-fc3a44af-de4f-4cb2-b032-2133501ac8bb' title='Show/Hide data repr'><svg class='icon xr-icon-database'><use xlink:href='#icon-database'></use></svg></label><div class='xr-var-attrs'><dl class='xr-attrs'></dl></div><div class='xr-var-data'><pre>[1 values with dtype=int64]</pre></div></li><li class='xr-var-item'><div class='xr-var-name'><span>surface</span></div><div class='xr-var-dims'>()</div><div class='xr-var-dtype'>float64</div><div class='xr-var-preview xr-preview'>...</div><input id='attrs-ef9ff7c9-4d18-45e8-a221-774d31ba8bf6' class='xr-var-attrs-in' type='checkbox' disabled><label for='attrs-ef9ff7c9-4d18-45e8-a221-774d31ba8bf6' title='Show/Hide attributes'><svg class='icon xr-icon-file-text2'><use xlink:href='#icon-file-text2'></use></svg></label><input id='data-0dc5e987-4448-40d4-8dc6-012d50892fa2' class='xr-var-data-in' type='checkbox'><label for='data-0dc5e987-4448-40d4-8dc6-012d50892fa2' title='Show/Hide data repr'><svg class='icon xr-icon-database'><use xlink:href='#icon-database'></use></svg></label><div class='xr-var-attrs'><dl class='xr-attrs'></dl></div><div class='xr-var-data'><pre>[1 values with dtype=float64]</pre></div></li><li class='xr-var-item'><div class='xr-var-name'><span>valid_time</span></div><div class='xr-var-dims'>()</div><div class='xr-var-dtype'>datetime64[ns]</div><div class='xr-var-preview xr-preview'>...</div><input id='attrs-94ae984c-a9ee-4957-bd8c-61267aed454c' class='xr-var-attrs-in' type='checkbox' disabled><label for='attrs-94ae984c-a9ee-4957-bd8c-61267aed454c' title='Show/Hide attributes'><svg class='icon xr-icon-file-text2'><use xlink:href='#icon-file-text2'></use></svg></label><input id='data-45dc3f2c-7352-49e9-a9b8-d3ebe0110340' class='xr-var-data-in' type='checkbox'><label for='data-45dc3f2c-7352-49e9-a9b8-d3ebe0110340' title='Show/Hide data repr'><svg class='icon xr-icon-database'><use xlink:href='#icon-database'></use></svg></label><div class='xr-var-attrs'><dl class='xr-attrs'></dl></div><div class='xr-var-data'><pre>[1 values with dtype=datetime64[ns]]</pre></div></li><li class='xr-var-item'><div class='xr-var-name'><span class='xr-has-index'>x</span></div><div class='xr-var-dims'>(x)</div><div class='xr-var-dtype'>float64</div><div class='xr-var-preview xr-preview'>-179.8 -179.5 ... 179.8 180.0</div><input id='attrs-ee208752-2d53-4e96-9286-bc19a8a5bd42' class='xr-var-attrs-in' type='checkbox' disabled><label for='attrs-ee208752-2d53-4e96-9286-bc19a8a5bd42' title='Show/Hide attributes'><svg class='icon xr-icon-file-text2'><use xlink:href='#icon-file-text2'></use></svg></label><input id='data-095fe726-1989-42d2-b003-8c0f854b1102' class='xr-var-data-in' type='checkbox'><label for='data-095fe726-1989-42d2-b003-8c0f854b1102' title='Show/Hide data repr'><svg class='icon xr-icon-database'><use xlink:href='#icon-database'></use></svg></label><div class='xr-var-attrs'><dl class='xr-attrs'></dl></div><div class='xr-var-data'><pre>array([-179.75, -179.5 , -179.25, ...,  179.5 ,  179.75,  180.  ])</pre></div></li><li class='xr-var-item'><div class='xr-var-name'><span>spatial_ref</span></div><div class='xr-var-dims'>()</div><div class='xr-var-dtype'>int64</div><div class='xr-var-preview xr-preview'>0</div><input id='attrs-00a87f6a-8a59-4123-8054-c54508c9c272' class='xr-var-attrs-in' type='checkbox' ><label for='attrs-00a87f6a-8a59-4123-8054-c54508c9c272' title='Show/Hide attributes'><svg class='icon xr-icon-file-text2'><use xlink:href='#icon-file-text2'></use></svg></label><input id='data-9ce14b77-f3b4-4698-b954-fb3ff9918e2e' class='xr-var-data-in' type='checkbox'><label for='data-9ce14b77-f3b4-4698-b954-fb3ff9918e2e' title='Show/Hide data repr'><svg class='icon xr-icon-database'><use xlink:href='#icon-database'></use></svg></label><div class='xr-var-attrs'><dl class='xr-attrs'><dt><span>crs_wkt :</span></dt><dd>GEOGCS[&quot;WGS 84&quot;,DATUM[&quot;WGS_1984&quot;,SPHEROID[&quot;WGS 84&quot;,6378137,298.257223563,AUTHORITY[&quot;EPSG&quot;,&quot;7030&quot;]],AUTHORITY[&quot;EPSG&quot;,&quot;6326&quot;]],PRIMEM[&quot;Greenwich&quot;,0,AUTHORITY[&quot;EPSG&quot;,&quot;8901&quot;]],UNIT[&quot;degree&quot;,0.0174532925199433,AUTHORITY[&quot;EPSG&quot;,&quot;9122&quot;]],AXIS[&quot;Latitude&quot;,NORTH],AXIS[&quot;Longitude&quot;,EAST],AUTHORITY[&quot;EPSG&quot;,&quot;4326&quot;]]</dd><dt><span>semi_major_axis :</span></dt><dd>6378137.0</dd><dt><span>semi_minor_axis :</span></dt><dd>6356752.314245179</dd><dt><span>inverse_flattening :</span></dt><dd>298.257223563</dd><dt><span>reference_ellipsoid_name :</span></dt><dd>WGS 84</dd><dt><span>longitude_of_prime_meridian :</span></dt><dd>0.0</dd><dt><span>prime_meridian_name :</span></dt><dd>Greenwich</dd><dt><span>geographic_crs_name :</span></dt><dd>WGS 84</dd><dt><span>horizontal_datum_name :</span></dt><dd>World Geodetic System 1984</dd><dt><span>grid_mapping_name :</span></dt><dd>latitude_longitude</dd><dt><span>spatial_ref :</span></dt><dd>GEOGCS[&quot;WGS 84&quot;,DATUM[&quot;WGS_1984&quot;,SPHEROID[&quot;WGS 84&quot;,6378137,298.257223563,AUTHORITY[&quot;EPSG&quot;,&quot;7030&quot;]],AUTHORITY[&quot;EPSG&quot;,&quot;6326&quot;]],PRIMEM[&quot;Greenwich&quot;,0,AUTHORITY[&quot;EPSG&quot;,&quot;8901&quot;]],UNIT[&quot;degree&quot;,0.0174532925199433,AUTHORITY[&quot;EPSG&quot;,&quot;9122&quot;]],AXIS[&quot;Latitude&quot;,NORTH],AXIS[&quot;Longitude&quot;,EAST],AUTHORITY[&quot;EPSG&quot;,&quot;4326&quot;]]</dd></dl></div><div class='xr-var-data'><pre>array(0)</pre></div></li></ul></div></li><li class='xr-section-item'><input id='section-9bf917d9-d746-4783-8b24-5eb0cfc37cbd' class='xr-section-summary-in' type='checkbox'  ><label for='section-9bf917d9-d746-4783-8b24-5eb0cfc37cbd' class='xr-section-summary' >Indexes: <span>(2)</span></label><div class='xr-section-inline-details'></div><div class='xr-section-details'><ul class='xr-var-list'><li class='xr-var-item'><div class='xr-index-name'><div>y</div></div><div class='xr-index-preview'>PandasIndex</div><div></div><input id='index-920eb530-d63f-472c-88ba-6e346d72e241' class='xr-index-data-in' type='checkbox'/><label for='index-920eb530-d63f-472c-88ba-6e346d72e241' title='Show/Hide index repr'><svg class='icon xr-icon-database'><use xlink:href='#icon-database'></use></svg></label><div class='xr-index-data'><pre>PandasIndex(Index([  90.0,  89.75,   89.5,  89.25,   89.0,  88.75,   88.5,  88.25,   88.0,\n",
       "        87.75,\n",
       "       ...\n",
       "       -87.75,  -88.0, -88.25,  -88.5, -88.75,  -89.0, -89.25,  -89.5, -89.75,\n",
       "        -90.0],\n",
       "      dtype=&#x27;float64&#x27;, name=&#x27;y&#x27;, length=721))</pre></div></li><li class='xr-var-item'><div class='xr-index-name'><div>x</div></div><div class='xr-index-preview'>PandasIndex</div><div></div><input id='index-9e6a0531-cb83-4dfd-8321-551fffecf3d3' class='xr-index-data-in' type='checkbox'/><label for='index-9e6a0531-cb83-4dfd-8321-551fffecf3d3' title='Show/Hide index repr'><svg class='icon xr-icon-database'><use xlink:href='#icon-database'></use></svg></label><div class='xr-index-data'><pre>PandasIndex(Index([-179.75,  -179.5, -179.25,  -179.0, -178.75,  -178.5, -178.25,  -178.0,\n",
       "       -177.75,  -177.5,\n",
       "       ...\n",
       "        177.75,   178.0,  178.25,   178.5,  178.75,   179.0,  179.25,   179.5,\n",
       "        179.75,   180.0],\n",
       "      dtype=&#x27;float64&#x27;, name=&#x27;x&#x27;, length=1440))</pre></div></li></ul></div></li><li class='xr-section-item'><input id='section-a12c75f8-2ff6-49d9-b4c8-b97db2563c96' class='xr-section-summary-in' type='checkbox'  checked><label for='section-a12c75f8-2ff6-49d9-b4c8-b97db2563c96' class='xr-section-summary' >Attributes: <span>(1)</span></label><div class='xr-section-inline-details'></div><div class='xr-section-details'><dl class='xr-attrs'><dt><span>units :</span></dt><dd>C</dd></dl></div></li></ul></div></div>"
      ],
      "text/plain": [
       "<xarray.DataArray 't2m' (y: 721, x: 1440)> Size: 4MB\n",
       "[1038240 values with dtype=float32]\n",
       "Coordinates:\n",
       "    entireAtmosphere  float32 4B ...\n",
       "  * y                 (y) float64 6kB 90.0 89.75 89.5 ... -89.5 -89.75 -90.0\n",
       "    number            int64 8B ...\n",
       "    surface           float64 8B ...\n",
       "    valid_time        datetime64[ns] 8B ...\n",
       "  * x                 (x) float64 12kB -179.8 -179.5 -179.2 ... 179.8 180.0\n",
       "    spatial_ref       int64 8B 0\n",
       "Attributes:\n",
       "    units:    C"
      ]
     },
     "execution_count": 8,
     "metadata": {},
     "output_type": "execute_result"
    }
   ],
   "source": [
    "\n",
    "var = data.rename({'latitude': 'y', 'longitude': 'x'})\n",
    "var.rio.write_crs(\"EPSG:4326\", inplace=True)\n"
   ]
  },
  {
   "cell_type": "markdown",
   "id": "cfe781c6-fa91-44ed-b8a3-b475eb19dc3d",
   "metadata": {},
   "source": [
    "## 5. Only for not global datasets\n",
    "\n",
    "If data contains NaN, replace it with -9999 to make them transparent afterwards (as soon as you then map this value to black in the colormap text file)\n"
   ]
  },
  {
   "cell_type": "code",
   "execution_count": 9,
   "id": "528ee768-173e-4cfb-a03f-9d6ceee1db3b",
   "metadata": {},
   "outputs": [],
   "source": [
    "var_filled = var.fillna(-9999)"
   ]
  },
  {
   "cell_type": "markdown",
   "id": "7a03c961-972a-4098-b7d2-5dfccea7a31e",
   "metadata": {},
   "source": [
    "## 6. Ruotate data \n",
    "\n",
    "it can be necessary to flip data of 180 degrees; verify if this step is necessary to your case\n",
    "\n",
    "```\n",
    "var_filled = var_filled[::-1, ::]\n",
    "```"
   ]
  },
  {
   "cell_type": "markdown",
   "id": "09366736-4c13-445a-926d-171d7d2320f2",
   "metadata": {},
   "source": [
    "## 7. Save the transformed data to GeoTiff (intermediate step)\n",
    "\n",
    "Wait untill the tiff file is created (it could take a while)"
   ]
  },
  {
   "cell_type": "code",
   "execution_count": 10,
   "id": "9cc0127d-59dd-4fa8-b761-f97158174562",
   "metadata": {},
   "outputs": [],
   "source": [
    "var_filled.rio.to_raster(tif_path)"
   ]
  },
  {
   "cell_type": "markdown",
   "id": "ad478c7d-475c-44dc-9619-5557339ef18b",
   "metadata": {},
   "source": [
    "# Apply the colormap to the generated Tiff in grayscale\n",
    "\n",
    "Matplotlib will be used to achieve this.\n",
    "\n",
    "The following file will be downlaoded locally: **t2m_era5_20240801_rgb.tiff**"
   ]
  },
  {
   "cell_type": "markdown",
   "id": "edefabe2-07f4-4668-91c8-45f43665a789",
   "metadata": {},
   "source": [
    "## 1. Load the colormap from the file\n",
    "\n",
    "The file colormap.txt contains a colormap suitable for temperature in Celsius."
   ]
  },
  {
   "cell_type": "code",
   "execution_count": 11,
   "id": "60cf4af3-140f-4de0-bb0e-d9c6a3c80896",
   "metadata": {},
   "outputs": [],
   "source": [
    "import rasterio\n",
    "import numpy as np\n",
    "import matplotlib.pyplot as plt\n",
    "from matplotlib.colors import ListedColormap\n",
    "\n",
    "# Load the colormap from the file\n",
    "def load_colormap(colormap_file):\n",
    "    colormap = []\n",
    "    values = []\n",
    "    with open(colormap_file, 'r') as f:\n",
    "        for line in f:\n",
    "            # Skip empty lines\n",
    "            if not line.strip():\n",
    "                continue\n",
    "            parts = line.strip().split(maxsplit=1)  # Split only at the first space\n",
    "            value = float(parts[0])\n",
    "            # Ensure correct parsing of the RGB values\n",
    "            rgb = tuple(map(int, parts[1].replace(',', ' ').split()))\n",
    "            values.append(value)\n",
    "            colormap.append(rgb)\n",
    "    return values, colormap\n",
    "\n",
    "values, colormap = load_colormap('colormap.txt')"
   ]
  },
  {
   "cell_type": "markdown",
   "id": "2e539b66-0c1c-418d-aa01-2e51ebd264ae",
   "metadata": {},
   "source": [
    "## 2. Create a custom colormap for matplotlib"
   ]
  },
  {
   "cell_type": "code",
   "execution_count": 12,
   "id": "8d914ff7-e34a-407c-be9c-d8e109af00e5",
   "metadata": {},
   "outputs": [],
   "source": [
    "def create_colormap(values, colormap):\n",
    "    norm_values = np.linspace(0, 1, len(values))\n",
    "    colors = np.array(colormap) / 255.0  # Normalize RGB to [0, 1] range\n",
    "    return ListedColormap(colors), norm_values\n",
    "\n",
    "cmap, norm_values = create_colormap(values, colormap)"
   ]
  },
  {
   "cell_type": "markdown",
   "id": "a4b3d82b-d8ba-4550-9746-1ed354d18c3b",
   "metadata": {},
   "source": [
    "## 3. Open the grayscale TIFF"
   ]
  },
  {
   "cell_type": "code",
   "execution_count": 15,
   "id": "46cbdd3a-6d27-4112-a73a-ac4e72085ea3",
   "metadata": {},
   "outputs": [],
   "source": [
    "with rasterio.open(tif_path) as src:\n",
    "    grayscale = src.read(1)  # Read the first band"
   ]
  },
  {
   "cell_type": "markdown",
   "id": "e234acf7-cebc-4625-99bd-de1e5baa7f56",
   "metadata": {},
   "source": [
    "## 4. Apply the colormap\n",
    "\n",
    "Interpolate the grayscale values to teh colormap\n",
    "\n",
    "A new Tiff will be generated"
   ]
  },
  {
   "cell_type": "code",
   "execution_count": 16,
   "id": "6521c229-fdb9-4145-b478-e2109c9ab44b",
   "metadata": {},
   "outputs": [],
   "source": [
    "output_rgb_tiff = \"t2m_era5_20240801_rgb.tiff\""
   ]
  },
  {
   "cell_type": "code",
   "execution_count": 17,
   "id": "0c35bdad-e9a2-4069-9584-ba6e01a008fd",
   "metadata": {},
   "outputs": [],
   "source": [
    "def apply_colormap_to_tiff(input_tiff, output_tiff, values, colormap):\n",
    "    with rasterio.open(input_tiff) as src:\n",
    "        grayscale = src.read(1)  # Read the first band (grayscale)\n",
    "        \n",
    "        # Apply the colormap to the grayscale data\n",
    "        normalized = (grayscale - np.min(grayscale)) / (np.max(grayscale) - np.min(grayscale))  # Normalize\n",
    "        cmap = ListedColormap(np.array(colormap) / 255.0)  # Convert colormap to matplotlib format\n",
    "        rgb_image = cmap(normalized)\n",
    "\n",
    "        # Write the RGB image to a new TIFF\n",
    "        height, width, _ = rgb_image.shape\n",
    "        profile = src.profile\n",
    "        profile.update(count=3, dtype=rasterio.uint8)  # Update profile to handle RGB output\n",
    "\n",
    "        with rasterio.open(output_tiff, 'w', **profile) as dst:\n",
    "            dst.write((rgb_image[:, :, 0] * 255).astype(np.uint8), 1)\n",
    "            dst.write((rgb_image[:, :, 1] * 255).astype(np.uint8), 2)\n",
    "            dst.write((rgb_image[:, :, 2] * 255).astype(np.uint8), 3)\n",
    "\n",
    "# Apply the colormap (assuming 'values' and 'colormap' were already loaded)\n",
    "apply_colormap_to_tiff(tif_path, output_rgb_tiff, values, colormap)"
   ]
  },
  {
   "cell_type": "markdown",
   "id": "f90ec6b7-2258-4090-83bc-100f7979f54b",
   "metadata": {},
   "source": [
    "# Convert TIFF to COG optimized for web\n",
    "\n",
    "The following file will be downlaoded locally: **t2m_era5_20240801_web_optimized.tiff**\n",
    "\n",
    "First of all, import the needed dependencies"
   ]
  },
  {
   "cell_type": "code",
   "execution_count": 18,
   "id": "543d5a02-23c5-4baf-b133-679226c14070",
   "metadata": {},
   "outputs": [],
   "source": [
    "import rasterio\n",
    "from rasterio.enums import Resampling\n",
    "from rio_cogeo.cogeo import cog_validate, cog_translate\n",
    "from rio_cogeo.profiles import cog_profiles\n"
   ]
  },
  {
   "cell_type": "markdown",
   "id": "014354e9-dc8e-4e88-a8d8-876d1be8fdfb",
   "metadata": {},
   "source": [
    "## 1. Define paths to your files"
   ]
  },
  {
   "cell_type": "code",
   "execution_count": 19,
   "id": "0663ca48-fa71-4ff3-9bb8-ade03b4f1085",
   "metadata": {},
   "outputs": [],
   "source": [
    "output_cog = \"t2m_era5_20240801_cog.tiff\"\n",
    "output_cog_web_optimized = \"t2m_era5_20240801_web_optimized.tiff\""
   ]
  },
  {
   "cell_type": "markdown",
   "id": "64135aa7-d500-42bb-8a82-fb50d041493d",
   "metadata": {},
   "source": [
    "## 2. Convert the GeoTiff to COG"
   ]
  },
  {
   "cell_type": "code",
   "execution_count": 20,
   "id": "b60a6ea0-e9d0-469b-a5b0-73373402708c",
   "metadata": {},
   "outputs": [
    {
     "name": "stderr",
     "output_type": "stream",
     "text": [
      "Reading input: <open DatasetReader name='t2m_era5_20240801_rgb.tiff' mode='r'>\n",
      "\n",
      "Adding overviews...\n",
      "Updating dataset tags...\n",
      "Writing output to: t2m_era5_20240801_cog.tiff\n"
     ]
    },
    {
     "name": "stdout",
     "output_type": "stream",
     "text": [
      "COG created successfully!\n"
     ]
    }
   ],
   "source": [
    "cog_profile = cog_profiles.get(\"deflate\")  # You can choose other profiles such as \"jpeg\", \"lzw\"\n",
    "\n",
    "config = {\n",
    "    \"blocksize\": 512,  # You can customize the blocksize\n",
    "    \"resampling\": \"average\"  # Pass the resampling method as a string\n",
    "}\n",
    "\n",
    "with rasterio.open(output_rgb_tiff) as src:\n",
    "    # Create COG\n",
    "    cog_translate(\n",
    "        src,\n",
    "        output_cog,\n",
    "        cog_profile,\n",
    "        config=config,\n",
    "        nodata=src.nodata,\n",
    "        overview_level=8,  # Define the overview level\n",
    "        overview_resampling=\"average\",  # Pass the resampling method as a string\n",
    "    )\n",
    "\n",
    "print(\"COG created successfully!\")"
   ]
  },
  {
   "cell_type": "markdown",
   "id": "d9872ce7-a63b-415b-9c59-88d7f8b00225",
   "metadata": {},
   "source": [
    "## 3. Convert COG to web-optimized COG using subprocess"
   ]
  },
  {
   "cell_type": "code",
   "execution_count": 21,
   "id": "45c0e2dc-6702-4e05-977e-24114d90db50",
   "metadata": {
    "scrolled": true
   },
   "outputs": [
    {
     "name": "stdout",
     "output_type": "stream",
     "text": [
      "Defining overview's `blocksize` to match the high resolution `blocksize`: 512\n"
     ]
    },
    {
     "name": "stderr",
     "output_type": "stream",
     "text": [
      "Reading input: /home/jovyan/desp-lab/dea-test/data2story/t2m_era5_20240801_cog.tiff\n",
      "\n",
      "Adding overviews...\n",
      "Updating dataset tags...\n",
      "Writing output to: /home/jovyan/desp-lab/dea-test/data2story/t2m_era5_20240801_web_optimized.tiff\n"
     ]
    },
    {
     "name": "stdout",
     "output_type": "stream",
     "text": [
      "Web-optimized COG created successfully!\n"
     ]
    }
   ],
   "source": [
    "import subprocess\n",
    "\n",
    "subprocess.run([\n",
    "    \"rio\", \"cogeo\", \"create\", \n",
    "    output_cog, \n",
    "    output_cog_web_optimized,\n",
    "    \"--blocksize\", \"512\",\n",
    "    \"--overview-resampling\", \"average\",\n",
    "    \"--overview-level\", \"8\",\n",
    "    \"--web-optimized\"\n",
    "], check=True)\n",
    "\n",
    "print(\"Web-optimized COG created successfully!\")\n"
   ]
  },
  {
   "cell_type": "markdown",
   "id": "66d6e3c6-a8d6-4209-80dc-36f4fda295bf",
   "metadata": {},
   "source": [
    "**NOTE**: The global COG file may result in missing the data over the poles, as those regions introduce distortions in the visualization."
   ]
  },
  {
   "cell_type": "markdown",
   "id": "e4feb667-b64d-414c-ab9c-b73af6f56cc0",
   "metadata": {},
   "source": [
    "# Upload the Web-Optimized COG on DEA!\n",
    "\n",
    "You can now upload the COG file generated on DEA and use it in your stories using the DEA API.\n",
    "\n",
    "> **_NOTE:_** You have to get a new access token to use the authenticated endpoint of DEA\n"
   ]
  },
  {
   "cell_type": "code",
   "execution_count": 102,
   "id": "91a246b8-0205-49cd-b17e-32586336e504",
   "metadata": {
    "scrolled": true
   },
   "outputs": [
    {
     "name": "stdin",
     "output_type": "stream",
     "text": [
      "Type your username:  dea@alia-space.com\n",
      "Type your password:  ········\n"
     ]
    }
   ],
   "source": [
    "%%capture cap\n",
    "%run ./../dea-authentication.py"
   ]
  },
  {
   "cell_type": "code",
   "execution_count": 103,
   "id": "cdd5e97c-902c-4a4b-a9b6-2fa1330c1ce2",
   "metadata": {},
   "outputs": [],
   "source": [
    "output_2 = cap.stdout.split('}\\n')\n",
    "token_dea = output_2[-1][0:-1]"
   ]
  },
  {
   "cell_type": "markdown",
   "id": "db50dff2-b22b-404e-b055-3bd6fe938543",
   "metadata": {},
   "source": [
    "## Add the generated COG file to your DEA asset using DEA API\n",
    "\n",
    "This file will be stored on your private workspace hosted on the DestinE Platform\n",
    "\n",
    "> **_NOTE:_** As an alternative, you can upload your asset from DEA Story Editor\n",
    "\n",
    "![alt text](./user_assets.png \"Upload assets\")"
   ]
  },
  {
   "cell_type": "code",
   "execution_count": 72,
   "id": "f0448891-87ce-465e-90f2-75445d56972d",
   "metadata": {},
   "outputs": [],
   "source": [
    "dea_base_url = \"http://dea.destine.eu/\""
   ]
  },
  {
   "cell_type": "markdown",
   "id": "d89da8e9-a145-45db-8fc4-8f10280705e1",
   "metadata": {},
   "source": [
    "### Import section"
   ]
  },
  {
   "cell_type": "code",
   "execution_count": 81,
   "id": "6972be1b-f7f2-4184-b4dc-8c9a5c6cada0",
   "metadata": {},
   "outputs": [],
   "source": [
    "import json\n",
    "import requests\n",
    "import urllib.parse\n",
    "import webbrowser"
   ]
  },
  {
   "cell_type": "code",
   "execution_count": 74,
   "id": "a232fc97-7c8d-4f90-ab95-ef88de74008c",
   "metadata": {},
   "outputs": [
    {
     "name": "stdout",
     "output_type": "stream",
     "text": [
      "Asset uploaded succesfully!\n",
      "<Response [201]>\n"
     ]
    }
   ],
   "source": [
    "\n",
    "\n",
    "api_url = \"api/userAssets/upload\"\n",
    "joined_url = urllib.parse.urljoin(dea_base_url, api_url)\n",
    "\n",
    "payload = {'type': 'image/tiff',\n",
    "'assetType': 'GeoTIFF/COG'}\n",
    "files=[\n",
    "  ('file',(output_cog_web_optimized,open(output_cog_web_optimized,'rb'),'image/tiff'))\n",
    "]\n",
    "headers = {\n",
    "  'Authorization': f'Bearer {token_dea}'\n",
    "}\n",
    "\n",
    "response = requests.request(\"POST\", joined_url, headers=headers, data=payload, files=files)\n",
    "userid = ''\n",
    "numbytes = ''\n",
    "assetId = ''\n",
    "response_data = None\n",
    "\n",
    "if response.status_code == 201:\n",
    "    print('Asset uploaded succesfully!')\n",
    "    response_data = response.json()\n",
    "    userid = response_data['asset']['userId']\n",
    "    numbytes = response_data['asset']['bytes']\n",
    "    assetId = response_data['asset']['_id']\n",
    "else:\n",
    "    print('Failed to upload asset')\n",
    "    \n",
    "\n",
    "\n",
    "\n",
    "print(response)\n"
   ]
  },
  {
   "cell_type": "markdown",
   "id": "de150b30-35ed-4faf-a4bf-1b33343c78ac",
   "metadata": {},
   "source": [
    "## Create a story with your asset using DEA API\n",
    "\n",
    "> **_NOTE:_** As an alternative, you can upload your asset from the [DEA Story Editor](https://dea.destine.eu/web/stories/editor)\n"
   ]
  },
  {
   "cell_type": "code",
   "execution_count": 104,
   "id": "08cd914d-a333-45de-b275-503b59381a28",
   "metadata": {
    "scrolled": true
   },
   "outputs": [
    {
     "name": "stdout",
     "output_type": "stream",
     "text": [
      "{\"title\": \"A sample story\", \"description\": \"A story with a user asset\", \"author\": \"You\", \"backgroundImage\": \"data:image/webp;base64,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\", \"isShared\": null, \"isPublic\": null, \"categories\": [], \"position\": {\"latitude\": 41.94900341314554, \"longitude\": 12.691010729488616}, \"slides\": [{\"title\": \"Slide 1\", \"infoBox\": \"{\\\"ops\\\":[{\\\"insert\\\":\\\"This slide contain an asset uploaded via API\\\\n\\\"}]}\", \"slideDurationSeconds\": 10, \"assets\": [{\"assetId\": \"6705bc763863ed3f3cf46a51\", \"parentAsset\": {\"_id\": \"6705bc763863ed3f3cf46a51\", \"filename\": \"t2m_era5_20240801_web_optimized.tiff\", \"name\": \"t2m_era5_20240801_web_optimized.tiff\", \"isShared\": false, \"isPublic\": false, \"type\": \"image/tiff\", \"assetType\": \"GeoTIFF/COG\", \"bytes\": 189840, \"status\": \"UPLOADED\", \"userId\": \"91d390bd-a62c-4e65-bd99-1a21da521bdc\", \"percentComplete\": 100, \"progressMessage\": \"Asset successfully uploaded\", \"isAlreadySelected\": true, \"isVisible\": true}, \"assetMetadata\": [], \"isVisible\": true}], \"terrain\": null, \"captureViewDetails\": null, \"thumbnail\": null, \"imageryLayersDetails\": [], \"startTime\": null, \"stopTime\": null, \"enableCompare\": false, \"imageryLayers\": \"[]\"}]}\n",
      "eyJhbGciOiJSUzI1NiIsInR5cCIgOiAiSldUIiwia2lkIiA6ICJ6Z2VPSi1PVkIxRXdkNk01blNEamZ0Vzd1WGpKa3hxMTdkV2FQbzd6NDIwIn0.eyJleHAiOjE3Mjg0MzEyNTMsImlhdCI6MTcyODQzMDk1MywiYXV0aF90aW1lIjoxNzI4NDMwOTUzLCJqdGkiOiI1MjRmOWFjYi02ODAwLTQ5OGQtYTdhZC0wZmJiMDA3ZDBmMjYiLCJpc3MiOiJodHRwczovL2F1dGguZGVzdGluZS5ldS9yZWFsbXMvZGVzcCIsInN1YiI6IjkxZDM5MGJkLWE2MmMtNGU2NS1iZDk5LTFhMjFkYTUyMWJkYyIsInR5cCI6IkJlYXJlciIsImF6cCI6ImRlYV9jbGllbnQiLCJzZXNzaW9uX3N0YXRlIjoiYTU1NzU5MGEtZjYzOS00M2YwLWFmOTMtNDAzMjAzZmI4NDE0IiwicmVzb3VyY2VfYWNjZXNzIjp7ImRlYV9jbGllbnQiOnsicm9sZXMiOlsicHVibGljLXN0b3JpZXMtbWFuYWdlciIsImNhbi1zaGFyZS1zdG9yaWVzIiwiZGItd21zX2xheWVycy13IiwidXNlciJdfX0sInNjb3BlIjoib3BlbmlkIiwic2lkIjoiYTU1NzU5MGEtZjYzOS00M2YwLWFmOTMtNDAzMjAzZmI4NDE0IiwicHJlZmVycmVkX3VzZXJuYW1lIjoiZGVhIn0.VO5sBvBdabtggf8gHdKnkTSLgKbpopEO1Z4PrZa7Oi8uSG6U8KEkaTp7xNlKBHxB110ZE5sPjrDuC3ppOlm7nTxabBTsqT5qbXwiz93o-lHG_Gtr4nSe7gbnj-GK0KZxPVjX5wUXiVihBFUBTs3t0d3_lhR0lsSRf1z0qKq84dXRKciznCsEVhd9R-GMYfkz6qcsrHDq2inkcwo-_yT8xvAp3XROrc1e5mHFNoAa2sVzHDE7_1fYUGCoZtlhzXBf4bGWpQF0tTZ09BCW46y7lJ52zAincWrbxUf7f5P4r4pfQAqmH4_c9TBlpb7gkmQJ1MyoIvIHT7n4n52F-s4AgA\n",
      "Story created succesfully!\n",
      "http://dea.demo.destine.eu/web/stories/editor/6705c3723863ed3f3cf477a8\n",
      "http://dea.demo.destine.eu/web/stories\n",
      "<Response [201]>\n",
      "Created\n",
      "6705c3723863ed3f3cf477a8\n"
     ]
    }
   ],
   "source": [
    "\n",
    "\n",
    "story_url = \"api/userStories\"\n",
    "new_url = urllib.parse.urljoin(dea_base_url, story_url)\n",
    "story_editor_url = urllib.parse.urljoin(dea_base_url, 'web/stories')\n",
    "\n",
    "# load the sample json template for API request body \n",
    "with open('data.json', 'r') as file:\n",
    "    payload = json.load(file)\n",
    "\n",
    "# replace tags in the JSON file with the proper asset's metadata\n",
    "payload_string = json.dumps(payload)\n",
    "payload_string = payload_string.replace('\"<bytes>\"', f'{numbytes}')\n",
    "payload_string = payload_string.replace('<userid>', userid)\n",
    "payload_string = payload_string.replace('<my_asset>', output_cog_web_optimized)\n",
    "payload_string = payload_string.replace('<assetId>', assetId)\n",
    "\n",
    "payload = json.dumps(json.loads(payload_string))\n",
    "\n",
    "headers = {\n",
    "  'Content-Type': 'application/json',\n",
    "  'Authorization': f'Bearer {token_dea}'\n",
    "}\n",
    "\n",
    "res = requests.request(\"POST\", new_url, headers=headers, data=payload)\n",
    "res_data = None\n",
    "storyId = '' \n",
    "story_editor_id_url = f'{story_editor_url}/editor/'\n",
    "\n",
    "if res.status_code == 201:\n",
    "    print('Story created succesfully!')\n",
    "    res_data = res.json()\n",
    "    storyId = res_data['_id']\n",
    "    story_editor_id_url = f'{story_editor_url}/editor/{storyId}'\n",
    "    print(f'You can edit your story at the following URL: {story_editor_id_url}')\n",
    "\n",
    "else:\n",
    "    print('Failed to create story') \n",
    "    print(res)\n",
    "    print(res.reason)\n"
   ]
  },
  {
   "cell_type": "markdown",
   "id": "123145fd-73b9-4cfc-a369-7f18aea665fc",
   "metadata": {},
   "source": [
    "## Your story has been created!\n",
    "\n",
    "You can now continue to write your story from the [DEA Story Editor](https://dea.destine.eu/web/stories/editor).\n",
    "\n",
    "Your story should look like the picture below:\n",
    "\n",
    " ![alt text](./new_story.png \"Your new story\")\n",
    "\n",
    "You need to authenticate on the DestinE Platform to edit your story.\n",
    "\n",
    " ![alt text](./cover.png \"DEA\")"
   ]
  },
  {
   "cell_type": "code",
   "execution_count": null,
   "id": "2b5f66e9-6f47-4ada-802a-bad4ea2e7875",
   "metadata": {},
   "outputs": [],
   "source": []
  }
 ],
 "metadata": {
  "kernelspec": {
   "display_name": "Python 3 (ipykernel)",
   "language": "python",
   "name": "python3"
  },
  "language_info": {
   "codemirror_mode": {
    "name": "ipython",
    "version": 3
   },
   "file_extension": ".py",
   "mimetype": "text/x-python",
   "name": "python",
   "nbconvert_exporter": "python",
   "pygments_lexer": "ipython3",
   "version": "3.11.9"
  }
 },
 "nbformat": 4,
 "nbformat_minor": 5
}
